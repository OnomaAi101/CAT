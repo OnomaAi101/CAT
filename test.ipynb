{
 "cells": [
  {
   "cell_type": "markdown",
   "metadata": {},
   "source": [
    "# CAT Testing notebook\n",
    "\n",
    "## Environment setting"
   ]
  },
  {
   "cell_type": "code",
   "execution_count": 52,
   "metadata": {},
   "outputs": [],
   "source": [
    "import os \n",
    "import torch\n",
    "from diffusers import AutoPipelineForText2Image, DiffusionPipeline\n",
    "\n",
    "base_model = \"runwayml/stable-diffusion-v1-5\"\n",
    "seed = 42\n",
    "os.environ[\"CUDA_VISIBLE_DEVICES\"] = \"2\"\n",
    "lora_path = \"/data7/OnomaAi101/CAT/results/cat_statue_20240201_new_prompts/checkpoint-500\"\n",
    "dreambooth_path = \"/data7/OnomaAi101/CAT/results/dreambooth/cat_statue_20240207_new/\"\n",
    "cat_path = \"/data7/OnomaAi101/CAT/results/cat/cat_statue_20240210/checkpoint-500\"\n",
    "prompt = \"a cat statue on a green field\"\n",
    "\n",
    "generator = torch.Generator(device=\"cuda\").manual_seed(seed)"
   ]
  },
  {
   "cell_type": "markdown",
   "metadata": {},
   "source": [
    "## Vanila Lora"
   ]
  },
  {
   "cell_type": "code",
   "execution_count": null,
   "metadata": {},
   "outputs": [],
   "source": [
    "pipeline = AutoPipelineForText2Image.from_pretrained(base_model, torch_dtype=torch.float16).to(\"cuda\")\n",
    "pipeline.load_lora_weights(lora_path, weight_name=\"pytorch_lora_weights.safetensors\")\n",
    "image = pipeline(prompt, generator = generator).images[0]\n",
    "image.save(\"/data7/OnomaAi101/CAT/results/cat_statue_20240201_new_prompts/checkpoint-500/no lora_a cat statue on a green field_0.png\")"
   ]
  },
  {
   "cell_type": "markdown",
   "metadata": {},
   "source": [
    "## Dreambooth"
   ]
  },
  {
   "cell_type": "code",
   "execution_count": null,
   "metadata": {},
   "outputs": [],
   "source": [
    "pipeline = DiffusionPipeline.from_pretrained(dreambooth_path, use_auth_token=True).to(\"cuda\")\n",
    "image = pipeline(\"cat statue, <shs>, on a green field\", generator = generator).images[0]\n",
    "image.save(\"/data7/OnomaAi101/CAT/results/dreambooth/cat_statue_20240207_new/dreambooth_<shs>, on a green field_0.png\")"
   ]
  },
  {
   "cell_type": "markdown",
   "metadata": {},
   "source": [
    "# CAT"
   ]
  },
  {
   "cell_type": "code",
   "execution_count": 54,
   "metadata": {},
   "outputs": [
    {
     "name": "stderr",
     "output_type": "stream",
     "text": [
      "Loading pipeline components...: 100%|██████████| 7/7 [00:10<00:00,  1.47s/it]\n",
      "100%|██████████| 50/50 [00:09<00:00,  5.55it/s]\n"
     ]
    }
   ],
   "source": [
    "pipeline = AutoPipelineForText2Image.from_pretrained(base_model, torch_dtype=torch.float16).to(\"cuda\")\n",
    "#pipeline.load_lora_weights(cat_path, weight_name=\"pytorch_lora_weights.safetensors\")\n",
    "image = pipeline(prompt, generator = generator).images[0]\n",
    "image.save(f\"{cat_path}/no lora_a cat statue on a green field_0.png\")"
   ]
  }
 ],
 "metadata": {
  "kernelspec": {
   "display_name": "CAT",
   "language": "python",
   "name": "python3"
  },
  "language_info": {
   "codemirror_mode": {
    "name": "ipython",
    "version": 3
   },
   "file_extension": ".py",
   "mimetype": "text/x-python",
   "name": "python",
   "nbconvert_exporter": "python",
   "pygments_lexer": "ipython3",
   "version": "3.10.13"
  }
 },
 "nbformat": 4,
 "nbformat_minor": 2
}
